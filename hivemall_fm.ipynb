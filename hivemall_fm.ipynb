{
 "cells": [
  {
   "cell_type": "markdown",
   "metadata": {},
   "source": [
    "Use Factorization Machines."
   ]
  },
  {
   "cell_type": "code",
   "execution_count": 1,
   "metadata": {
    "collapsed": true
   },
   "outputs": [],
   "source": [
    "from os.path import expanduser\n",
    "jupyter_td_file_path = expanduser(\"~\") + \"/.jupyter/conf\"\n",
    "\n",
    "import yaml\n",
    "with open(jupyter_td_file_path, 'r') as f:\n",
    "    doc = yaml.load(f)\n",
    "\n",
    "API_KEY = doc['td']['apiKey']\n",
    "DATABASE = doc['td']['db']"
   ]
  },
  {
   "cell_type": "code",
   "execution_count": 2,
   "metadata": {
    "collapsed": false
   },
   "outputs": [],
   "source": [
    "SETTINGS = {\n",
    "  \"RUN_TEST\"    : True, # if run test or not\n",
    "  \"TEST_RATIO\"  : 0.15, # how much data do you wanna use for testing\n",
    "  \"TRAIN_TABLE\" : \"kaggle.criteo2014_train\",\n",
    "  \"TEST_TABLE\"  : \"kaggle.criteo2014_test\",\n",
    "  \"RESOLUTION\"  : 50, # how many categories each quantative features have\n",
    "  \"FACTOR\"      : 20,\n",
    "  \"ITERATIONS\"  : 5,\n",
    "  \"ETA\"         : 0.01,\n",
    "}"
   ]
  },
  {
   "cell_type": "code",
   "execution_count": 3,
   "metadata": {
    "collapsed": true
   },
   "outputs": [],
   "source": [
    "%matplotlib inline\n",
    "from sklearn.metrics import roc_curve, auc, log_loss\n",
    "import matplotlib.pyplot as plt\n",
    "import numpy as np\n",
    "import scipy as sp\n",
    "import pandas_td as td\n",
    "import tdclient\n",
    "import pandas as pd\n",
    "\n",
    "\n",
    "con = td.connect(apikey=API_KEY, endpoint='https://api.treasuredata.com/')\n",
    "engine_presto = con.query_engine(database=DATABASE, type='presto')\n",
    "engine_hive = con.query_engine(database=DATABASE, type='hive')\n",
    "\n",
    "td_client = tdclient.Client(API_KEY)"
   ]
  },
  {
   "cell_type": "code",
   "execution_count": 4,
   "metadata": {
    "collapsed": false
   },
   "outputs": [
    {
     "data": {
      "text/plain": [
       "True"
      ]
     },
     "execution_count": 4,
     "metadata": {},
     "output_type": "execute_result"
    }
   ],
   "source": [
    "td.read_td(\"DROP TABLE IF EXISTS kaggle_criteo_fm_features\", engine_presto)\n",
    "td_client.create_log_table(DATABASE, \"kaggle_criteo_fm_features\")\n",
    "\n",
    "td.read_td(\"DROP TABLE IF EXISTS kaggle_criteo_fm_model\", engine_presto)\n",
    "td_client.create_log_table(DATABASE, \"kaggle_criteo_fm_model\")\n",
    "\n",
    "td.read_td(\"DROP TABLE IF EXISTS kaggle_criteo_fm_pred\", engine_presto)\n",
    "td_client.create_log_table(DATABASE, \"kaggle_criteo_fm_pred\")"
   ]
  },
  {
   "cell_type": "markdown",
   "metadata": {},
   "source": [
    "###  Get max and min values for each quantative variable.\n",
    "量的変数の最大値・最小値を取得"
   ]
  },
  {
   "cell_type": "code",
   "execution_count": 5,
   "metadata": {
    "collapsed": false
   },
   "outputs": [
    {
     "data": {
      "text/html": [
       "<div style=\"border-style: dashed; border-width: 1px;\">\n",
       "<div style=\"color: #888;\"># issued at 2016-06-15T02:13:08Z</div>URL: <a href=\"https://console.treasuredata.com/jobs/70612236\" target=\"_blank\">https://console.treasuredata.com/jobs/70612236</a><br>\n",
       "<div style=\"color: #888;\"># started at 2016-06-15T02:13:32Z</div><pre style=\"color: #c44;\">\n",
       "** WARNING: time index filtering is not set on , \n",
       "** This query could be very slow as a result.\n",
       "** Please see https://docs.treasuredata.com/articles/presto-performance-tuning#leveraging-time-based-partitioning</pre>\n",
       "Result size: 81 bytes<br>\n",
       "Download: 81 / 81 bytes (100.00%)<br>\n",
       "<div style=\"color: #888;\"># downloaded at 2016-06-15T02:13:44Z</div></div>\n"
      ],
      "text/plain": [
       "<IPython.core.display.HTML object>"
      ]
     },
     "metadata": {},
     "output_type": "display_data"
    }
   ],
   "source": [
    "sql = '''\n",
    "select\n",
    "  min(min1) as min1, max(max1) as max1,\n",
    "  min(min2) as min2, max(max2) as max2,\n",
    "  min(min3) as min3, max(max3) as max3,\n",
    "  min(min4) as min4, max(max4) as max4,\n",
    "  min(min5) as min5, max(max5) as max5,\n",
    "  min(min6) as min6, max(max6) as max6,\n",
    "  min(min7) as min7, max(max7) as max7,\n",
    "  min(min8) as min8, max(max8) as max8,\n",
    "  min(min9) as min9, max(max9) as max9,\n",
    "  min(min10) as min10, max(max10) as max10,\n",
    "  min(min11) as min11, max(max11) as max11,\n",
    "  min(min12) as min12, max(max12) as max12,\n",
    "  min(min13) as min13, max(max13) as max13\n",
    "from (\n",
    "  select\n",
    "    min(i1) as min1, max(i1) as max1, avg(i1) as avg1,\n",
    "    min(i2) as min2, max(i2) as max2, avg(i2) as avg2,\n",
    "    min(i3) as min3, max(i3) as max3, avg(i3) as avg3,\n",
    "    min(i4) as min4, max(i4) as max4, avg(i4) as avg4,\n",
    "    min(i5) as min5, max(i5) as max5, avg(i5) as avg5,\n",
    "    min(i6) as min6, max(i6) as max6, avg(i6) as avg6,\n",
    "    min(i7) as min7, max(i7) as max7, avg(i7) as avg7,\n",
    "    min(i8) as min8, max(i8) as max8, avg(i8) as avg8,\n",
    "    min(i9) as min9, max(i9) as max9, avg(i9) as avg9,\n",
    "    min(i10) as min10, max(i10) as max10, avg(i10) as avg10,\n",
    "    min(i11) as min11, max(i11) as max11, avg(i11) as avg11,\n",
    "    min(i12) as min12, max(i12) as max12, avg(i12) as avg12,\n",
    "    min(i13) as min13, max(i13) as max13, avg(i13) as avg13\n",
    "  from\n",
    "    {TRAIN_TABLE}\n",
    "  union all\n",
    "  select\n",
    "    min(i1) as min1, max(i1) as max1, null as avg1,\n",
    "    min(i2) as min2, max(i2) as max2, null as avg2,\n",
    "    min(i3) as min3, max(i3) as max3, null as avg3,\n",
    "    min(i4) as min4, max(i4) as max4, null as avg4,\n",
    "    min(i5) as min5, max(i5) as max5, null as avg5,\n",
    "    min(i6) as min6, max(i6) as max6, null as avg6,\n",
    "    min(i7) as min7, max(i7) as max7, null as avg7,\n",
    "    min(i8) as min8, max(i8) as max8, null as avg8,\n",
    "    min(i9) as min9, max(i9) as max9, avg(i9) as avg9,\n",
    "    min(i10) as min10, max(i10) as max10, avg(i10) as avg10,\n",
    "    min(i11) as min11, max(i11) as max11, avg(i11) as avg11,\n",
    "    min(i12) as min12, max(i12) as max12, avg(i12) as avg12,\n",
    "    min(i13) as min13, max(i13) as max13, avg(i13) as avg13\n",
    "  from\n",
    "    {TEST_TABLE}\n",
    ") t\n",
    "'''.format_map(SETTINGS)\n",
    "\n",
    "df_min_max = td.read_td(sql, engine_presto)"
   ]
  },
  {
   "cell_type": "code",
   "execution_count": 6,
   "metadata": {
    "collapsed": false,
    "scrolled": false
   },
   "outputs": [
    {
     "data": {
      "text/html": [
       "<div>\n",
       "<table border=\"1\" class=\"dataframe\">\n",
       "  <thead>\n",
       "    <tr style=\"text-align: right;\">\n",
       "      <th></th>\n",
       "      <th>min1</th>\n",
       "      <th>max1</th>\n",
       "      <th>min2</th>\n",
       "      <th>max2</th>\n",
       "      <th>min3</th>\n",
       "      <th>max3</th>\n",
       "      <th>min4</th>\n",
       "      <th>max4</th>\n",
       "      <th>min5</th>\n",
       "      <th>max5</th>\n",
       "      <th>...</th>\n",
       "      <th>min9</th>\n",
       "      <th>max9</th>\n",
       "      <th>min10</th>\n",
       "      <th>max10</th>\n",
       "      <th>min11</th>\n",
       "      <th>max11</th>\n",
       "      <th>min12</th>\n",
       "      <th>max12</th>\n",
       "      <th>min13</th>\n",
       "      <th>max13</th>\n",
       "    </tr>\n",
       "  </thead>\n",
       "  <tbody>\n",
       "    <tr>\n",
       "      <th>0</th>\n",
       "      <td>0</td>\n",
       "      <td>5775</td>\n",
       "      <td>-3</td>\n",
       "      <td>257675</td>\n",
       "      <td>0</td>\n",
       "      <td>65535</td>\n",
       "      <td>0</td>\n",
       "      <td>969</td>\n",
       "      <td>0</td>\n",
       "      <td>23159456</td>\n",
       "      <td>...</td>\n",
       "      <td>0</td>\n",
       "      <td>29019</td>\n",
       "      <td>0</td>\n",
       "      <td>11</td>\n",
       "      <td>0</td>\n",
       "      <td>231</td>\n",
       "      <td>0</td>\n",
       "      <td>4008</td>\n",
       "      <td>0</td>\n",
       "      <td>7393</td>\n",
       "    </tr>\n",
       "  </tbody>\n",
       "</table>\n",
       "<p>1 rows × 26 columns</p>\n",
       "</div>"
      ],
      "text/plain": [
       "   min1  max1  min2    max2  min3   max3  min4  max4  min5      max5  ...    \\\n",
       "0     0  5775    -3  257675     0  65535     0   969     0  23159456  ...     \n",
       "\n",
       "   min9   max9  min10  max10  min11  max11  min12  max12  min13  max13  \n",
       "0     0  29019      0     11      0    231      0   4008      0   7393  \n",
       "\n",
       "[1 rows x 26 columns]"
      ]
     },
     "execution_count": 6,
     "metadata": {},
     "output_type": "execute_result"
    }
   ],
   "source": [
    "df_min_max"
   ]
  },
  {
   "cell_type": "markdown",
   "metadata": {},
   "source": [
    "Treat all variables as a categorical feature."
   ]
  },
  {
   "cell_type": "code",
   "execution_count": 7,
   "metadata": {
    "collapsed": false
   },
   "outputs": [
    {
     "data": {
      "text/html": [
       "<div style=\"border-style: dashed; border-width: 1px;\">\n",
       "<div style=\"color: #888;\"># issued at 2016-06-15T02:13:44Z</div>URL: <a href=\"https://console.treasuredata.com/jobs/70612287\" target=\"_blank\">https://console.treasuredata.com/jobs/70612287</a><br>\n",
       "Result size: 20 bytes<br>\n",
       "Download: 20 / 20 bytes (100.00%)<br>\n",
       "<div style=\"color: #888;\"># downloaded at 2016-06-15T02:25:31Z</div></div>\n"
      ],
      "text/plain": [
       "<IPython.core.display.HTML object>"
      ]
     },
     "metadata": {},
     "output_type": "display_data"
    },
    {
     "data": {
      "text/html": [
       "<div>\n",
       "<table border=\"1\" class=\"dataframe\">\n",
       "  <thead>\n",
       "    <tr style=\"text-align: right;\">\n",
       "      <th></th>\n",
       "      <th>label</th>\n",
       "      <th>features</th>\n",
       "    </tr>\n",
       "  </thead>\n",
       "  <tbody>\n",
       "  </tbody>\n",
       "</table>\n",
       "</div>"
      ],
      "text/plain": [
       "Empty DataFrame\n",
       "Columns: [label, features]\n",
       "Index: []"
      ]
     },
     "execution_count": 7,
     "metadata": {},
     "output_type": "execute_result"
    }
   ],
   "source": [
    "sql = '''\n",
    "INSERT OVERWRITE TABLE kaggle_criteo_fm_features\n",
    "\n",
    "SELECT\n",
    "  label,\n",
    "  concat_array( -- don't need to add bias features for training data\n",
    "    categorical_features(\n",
    "      array('i1','i2','i3','i4','i5','i6','i7','i8','i9','i10','i11','i12','i13'),\n",
    "      IF(i1 IS NULL, 'null', CAST(rescale(i1, {min1}, {max1}) * {RESOLUTION} AS INT)),\n",
    "      IF(i2 IS NULL, 'null', CAST(rescale(i2, {min2}, {max2}) * {RESOLUTION} AS INT)),\n",
    "      IF(i3 IS NULL, 'null', CAST(rescale(i3, {min3}, {max3}) * {RESOLUTION} AS INT)),\n",
    "      IF(i4 IS NULL, 'null', CAST(rescale(i4, {min4}, {max4}) * {RESOLUTION} AS INT)),\n",
    "      IF(i5 IS NULL, 'null', CAST(rescale(i5, {min5}, {max5}) * {RESOLUTION} AS INT)),\n",
    "      IF(i6 IS NULL, 'null', CAST(rescale(i6, {min6}, {max6}) * {RESOLUTION} AS INT)),\n",
    "      IF(i7 IS NULL, 'null', CAST(rescale(i7, {min7}, {max7}) * {RESOLUTION} AS INT)),\n",
    "      IF(i8 IS NULL, 'null', CAST(rescale(i8, {min8}, {max8}) * {RESOLUTION} AS INT)),\n",
    "      IF(i9 IS NULL, 'null', CAST(rescale(i9, {min9}, {max9}) * {RESOLUTION} AS INT)),\n",
    "      IF(i10 IS NULL, 'null', CAST(rescale(i10, {min10}, {max10}) * {RESOLUTION} AS INT)),\n",
    "      IF(i11 IS NULL, 'null', CAST(rescale(i11, {min11}, {max11}) * {RESOLUTION} AS INT)),\n",
    "      IF(i12 IS NULL, 'null', CAST(rescale(i12, {min12}, {max12}) * {RESOLUTION} AS INT)),\n",
    "      IF(i13 IS NULL, 'null', CAST(rescale(i13, {min13}, {max13}) * {RESOLUTION} AS INT))\n",
    "    ),\n",
    "    categorical_features(\n",
    "      array('c1','c2','c3','c4','c5','c6','c7','c8','c9','c10','c11','c12','c13','c14','c15','c16','c17','c18','c19','c20','c21','c22','c23','c24','c25','c26'),\n",
    "      IF(c1 IS NULL, 'null', c1),\n",
    "      IF(c2 IS NULL, 'null', c2),\n",
    "      IF(c3 IS NULL, 'null', c3),\n",
    "      IF(c4 IS NULL, 'null', c4),\n",
    "      IF(c5 IS NULL, 'null', c5),\n",
    "      IF(c6 IS NULL, 'null', c6),\n",
    "      IF(c7 IS NULL, 'null', c7),\n",
    "      IF(c8 IS NULL, 'null', c8),\n",
    "      IF(c9 IS NULL, 'null', c9),\n",
    "      IF(c10 IS NULL, 'null', c10),\n",
    "      IF(c11 IS NULL, 'null', c11),\n",
    "      IF(c12 IS NULL, 'null', c12),\n",
    "      IF(c13 IS NULL, 'null', c13),\n",
    "      IF(c14 IS NULL, 'null', c14),\n",
    "      IF(c15 IS NULL, 'null', c15),\n",
    "      IF(c16 IS NULL, 'null', c16),\n",
    "      IF(c17 IS NULL, 'null', c17),\n",
    "      IF(c18 IS NULL, 'null', c18),\n",
    "      IF(c19 IS NULL, 'null', c19),\n",
    "      IF(c20 IS NULL, 'null', c20),\n",
    "      IF(c21 IS NULL, 'null', c21),\n",
    "      IF(c22 IS NULL, 'null', c22),\n",
    "      IF(c23 IS NULL, 'null', c23),\n",
    "      IF(c24 IS NULL, 'null', c24),\n",
    "      IF(c25 IS NULL, 'null', c25),\n",
    "      IF(c26 IS NULL, 'null', c26)\n",
    "    )\n",
    "  ) as features\n",
    "FROM \n",
    "  {TRAIN_TABLE}\n",
    "'''.format_map({**SETTINGS, **(df_min_max.T[0].to_dict())})\n",
    "\n",
    "td.read_td(sql, engine_hive)"
   ]
  },
  {
   "cell_type": "markdown",
   "metadata": {},
   "source": [
    "### Training with FM"
   ]
  },
  {
   "cell_type": "code",
   "execution_count": 8,
   "metadata": {
    "collapsed": false,
    "scrolled": true
   },
   "outputs": [
    {
     "data": {
      "text/html": [
       "<div style=\"border-style: dashed; border-width: 1px;\">\n",
       "<div style=\"color: #888;\"># issued at 2016-06-15T02:25:31Z</div>URL: <a href=\"https://console.treasuredata.com/jobs/70613511\" target=\"_blank\">https://console.treasuredata.com/jobs/70613511</a><br>\n",
       "Result size: 20 bytes<br>\n",
       "Download: 20 / 20 bytes (100.00%)<br>\n",
       "<div style=\"color: #888;\"># downloaded at 2016-06-15T03:42:25Z</div></div>\n"
      ],
      "text/plain": [
       "<IPython.core.display.HTML object>"
      ]
     },
     "metadata": {},
     "output_type": "display_data"
    },
    {
     "data": {
      "text/html": [
       "<div>\n",
       "<table border=\"1\" class=\"dataframe\">\n",
       "  <thead>\n",
       "    <tr style=\"text-align: right;\">\n",
       "      <th></th>\n",
       "      <th>feature</th>\n",
       "      <th>wi</th>\n",
       "      <th>vif</th>\n",
       "    </tr>\n",
       "  </thead>\n",
       "  <tbody>\n",
       "  </tbody>\n",
       "</table>\n",
       "</div>"
      ],
      "text/plain": [
       "Empty DataFrame\n",
       "Columns: [feature, wi, vif]\n",
       "Index: []"
      ]
     },
     "execution_count": 8,
     "metadata": {},
     "output_type": "execute_result"
    }
   ],
   "source": [
    "sql = '''\n",
    "INSERT OVERWRITE TABLE kaggle_criteo_fm_model\n",
    "\n",
    "SELECT\n",
    "  feature,\n",
    "  AVG(Wi) as Wi,\n",
    "  array_avg(Vif) as Vif\n",
    "FROM (\n",
    "  SELECT \n",
    "    train_fm(features, label, \"-factor {FACTOR} -iters {ITERATIONS} -eta {ETA} -min 0 -max 1 -c\") \n",
    "        AS (feature, Wi, Vif)\n",
    "  FROM \n",
    "    kaggle_criteo_fm_features\n",
    ") t\n",
    "GROUP BY feature\n",
    "'''.format_map({**SETTINGS, **(df_min_max.T[0].to_dict())})\n",
    "\n",
    "td.read_td(sql, engine_hive)"
   ]
  },
  {
   "cell_type": "markdown",
   "metadata": {},
   "source": [
    "### Prediction"
   ]
  },
  {
   "cell_type": "code",
   "execution_count": 9,
   "metadata": {
    "collapsed": false
   },
   "outputs": [
    {
     "data": {
      "text/html": [
       "<div style=\"border-style: dashed; border-width: 1px;\">\n",
       "<div style=\"color: #888;\"># issued at 2016-06-15T03:42:25Z</div>URL: <a href=\"https://console.treasuredata.com/jobs/70623137\" target=\"_blank\">https://console.treasuredata.com/jobs/70623137</a><br>\n",
       "Result size: 20 bytes<br>\n",
       "Download: 20 / 20 bytes (100.00%)<br>\n",
       "<div style=\"color: #888;\"># downloaded at 2016-06-15T04:14:08Z</div></div>\n"
      ],
      "text/plain": [
       "<IPython.core.display.HTML object>"
      ]
     },
     "metadata": {},
     "output_type": "display_data"
    },
    {
     "data": {
      "text/html": [
       "<div>\n",
       "<table border=\"1\" class=\"dataframe\">\n",
       "  <thead>\n",
       "    <tr style=\"text-align: right;\">\n",
       "      <th></th>\n",
       "      <th>id</th>\n",
       "      <th>predicted</th>\n",
       "    </tr>\n",
       "  </thead>\n",
       "  <tbody>\n",
       "  </tbody>\n",
       "</table>\n",
       "</div>"
      ],
      "text/plain": [
       "Empty DataFrame\n",
       "Columns: [id, predicted]\n",
       "Index: []"
      ]
     },
     "execution_count": 9,
     "metadata": {},
     "output_type": "execute_result"
    }
   ],
   "source": [
    "sql = '''\n",
    "WITH tmp_test AS (\n",
    "SELECT\n",
    "  id,\n",
    "  add_bias(concat_array(\n",
    "    categorical_features(\n",
    "      array('i1','i2','i3','i4','i5','i6','i7','i8','i9','i10','i11','i12','i13'),\n",
    "      IF(i1 IS NULL, 'null', CAST(rescale(i1, {min1}, {max1}) * {RESOLUTION} AS INT)),\n",
    "      IF(i2 IS NULL, 'null', CAST(rescale(i2, {min2}, {max2}) * {RESOLUTION} AS INT)),\n",
    "      IF(i3 IS NULL, 'null', CAST(rescale(i3, {min3}, {max3}) * {RESOLUTION} AS INT)),\n",
    "      IF(i4 IS NULL, 'null', CAST(rescale(i4, {min4}, {max4}) * {RESOLUTION} AS INT)),\n",
    "      IF(i5 IS NULL, 'null', CAST(rescale(i5, {min5}, {max5}) * {RESOLUTION} AS INT)),\n",
    "      IF(i6 IS NULL, 'null', CAST(rescale(i6, {min6}, {max6}) * {RESOLUTION} AS INT)),\n",
    "      IF(i7 IS NULL, 'null', CAST(rescale(i7, {min7}, {max7}) * {RESOLUTION} AS INT)),\n",
    "      IF(i8 IS NULL, 'null', CAST(rescale(i8, {min8}, {max8}) * {RESOLUTION} AS INT)),\n",
    "      IF(i9 IS NULL, 'null', CAST(rescale(i9, {min9}, {max9}) * {RESOLUTION} AS INT)),\n",
    "      IF(i10 IS NULL, 'null', CAST(rescale(i10, {min10}, {max10}) * {RESOLUTION} AS INT)),\n",
    "      IF(i11 IS NULL, 'null', CAST(rescale(i11, {min11}, {max11}) * {RESOLUTION} AS INT)),\n",
    "      IF(i12 IS NULL, 'null', CAST(rescale(i12, {min12}, {max12}) * {RESOLUTION} AS INT)),\n",
    "      IF(i13 IS NULL, 'null', CAST(rescale(i13, {min13}, {max13}) * {RESOLUTION} AS INT))\n",
    "    ),\n",
    "    categorical_features(\n",
    "      array('c1','c2','c3','c4','c5','c6','c7','c8','c9','c10','c11','c12','c13','c14','c15','c16','c17','c18','c19','c20','c21','c22','c23','c24','c25','c26'),\n",
    "      IF(c1 IS NULL, 'null', c1),\n",
    "      IF(c2 IS NULL, 'null', c2),\n",
    "      IF(c3 IS NULL, 'null', c3),\n",
    "      IF(c4 IS NULL, 'null', c4),\n",
    "      IF(c5 IS NULL, 'null', c5),\n",
    "      IF(c6 IS NULL, 'null', c6),\n",
    "      IF(c7 IS NULL, 'null', c7),\n",
    "      IF(c8 IS NULL, 'null', c8),\n",
    "      IF(c9 IS NULL, 'null', c9),\n",
    "      IF(c10 IS NULL, 'null', c10),\n",
    "      IF(c11 IS NULL, 'null', c11),\n",
    "      IF(c12 IS NULL, 'null', c12),\n",
    "      IF(c13 IS NULL, 'null', c13),\n",
    "      IF(c14 IS NULL, 'null', c14),\n",
    "      IF(c15 IS NULL, 'null', c15),\n",
    "      IF(c16 IS NULL, 'null', c16),\n",
    "      IF(c17 IS NULL, 'null', c17),\n",
    "      IF(c18 IS NULL, 'null', c18),\n",
    "      IF(c19 IS NULL, 'null', c19),\n",
    "      IF(c20 IS NULL, 'null', c20),\n",
    "      IF(c21 IS NULL, 'null', c21),\n",
    "      IF(c22 IS NULL, 'null', c22),\n",
    "      IF(c23 IS NULL, 'null', c23),\n",
    "      IF(c24 IS NULL, 'null', c24),\n",
    "      IF(c25 IS NULL, 'null', c25),\n",
    "      IF(c26 IS NULL, 'null', c26)\n",
    "    )\n",
    "  )) as features\n",
    "FROM \n",
    "  {TEST_TABLE}\n",
    "),\n",
    "\n",
    "tmp_test_exploded AS (\n",
    "SELECT \n",
    "  id,\n",
    "  extract_feature(fv) AS feature,\n",
    "  extract_weight(fv) AS Xi\n",
    "FROM\n",
    "  tmp_test t1 LATERAL VIEW explode(features) t2 AS fv\n",
    ")\n",
    "\n",
    "INSERT OVERWRITE TABLE kaggle_criteo_fm_pred\n",
    "\n",
    "SELECT\n",
    "  t.id AS Id,\n",
    "  sigmoid(fm_predict(m.Wi, m.Vif, t.Xi)) AS Predicted\n",
    "FROM \n",
    "  tmp_test_exploded t\n",
    "  LEFT OUTER JOIN kaggle_criteo_fm_model m ON (t.feature = m.feature)\n",
    "GROUP BY\n",
    "  t.id\n",
    "'''.format_map({**SETTINGS, **(df_min_max.T[0].to_dict())})\n",
    "\n",
    "td.read_td(sql, engine_hive)"
   ]
  },
  {
   "cell_type": "markdown",
   "metadata": {},
   "source": [
    "## Result\n",
    "\n",
    "Got a way worse score than the one with the baseline LR model.\n",
    "\n",
    "- Baseline: 0.48396\n",
    "- This notebook: 0.59276"
   ]
  }
 ],
 "metadata": {
  "kernelspec": {
   "display_name": "Python 3",
   "language": "python",
   "name": "python3"
  },
  "language_info": {
   "codemirror_mode": {
    "name": "ipython",
    "version": 3
   },
   "file_extension": ".py",
   "mimetype": "text/x-python",
   "name": "python",
   "nbconvert_exporter": "python",
   "pygments_lexer": "ipython3",
   "version": "3.5.1"
  }
 },
 "nbformat": 4,
 "nbformat_minor": 0
}
