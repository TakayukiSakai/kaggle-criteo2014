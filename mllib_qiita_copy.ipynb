{
 "cells": [
  {
   "cell_type": "markdown",
   "metadata": {},
   "source": [
    "# MlLibを使ってみた\n",
    "\n",
    "以下のQiitaの記事のコピペ\n",
    "http://qiita.com/tkazusa/items/2c1d41ace16a3e2d2c6a"
   ]
  },
  {
   "cell_type": "code",
   "execution_count": 1,
   "metadata": {
    "collapsed": true
   },
   "outputs": [],
   "source": [
    "# おまじない\n",
    "import sys, os\n",
    "spark_home = '/usr/local/lib/spark2.0.1'\n",
    "os.environ[\"SPARK_HOME\"] = spark_home\n",
    "os.environ[\"PYSPARK_PYTHON\"] = '/usr/local/bin/python3'\n",
    "sys.path.insert(0, '{}/python/'.format(spark_home))\n",
    "sys.path.insert(0, '{}/python/lib/py4j-0.10.3-src.zip'.format(spark_home))\n",
    "import pyspark\n",
    "conf = pyspark.SparkConf().setMaster(\"local[8]\")\n",
    "sc = pyspark.SparkContext(conf=conf)"
   ]
  },
  {
   "cell_type": "code",
   "execution_count": 2,
   "metadata": {
    "collapsed": false,
    "scrolled": true
   },
   "outputs": [
    {
     "name": "stdout",
     "output_type": "stream",
     "text": [
      "['0,1,1,5,0,1382,4,15,2,181,1,2,,2,68fd1e64,80e26c9b,fb936136,7b4723c4,25c83c98,7e0ccccf,de7995b8,1f89b562,a73ee510,a8cd5504,b2cb9c98,37c9c164,2824a5f6,1adce6ef,8ba8b39a,891b62e7,e5ba7672,f54016b9,21ddcdc9,b1252a9d,07b5194c,,3a171ecb,c5c50484,e8b83407,9727dd16']\n",
      "\n",
      "Number of data\n",
      "Train:\t450090\n",
      "Test:\t49910\n"
     ]
    }
   ],
   "source": [
    "import numpy as np\n",
    "from pyspark.mllib.linalg import SparseVector\n",
    "from pyspark.mllib.regression import LabeledPoint\n",
    "\n",
    "# rawTrainData = sc.textFile(\"data/train.txt\").map(lambda x: x.replace('\\t', ',')).cache()\n",
    "# rawTestData = sc.textFile(\"data/test.txt\").map(lambda x: x.replace('\\t', ',')).cache()\n",
    "\n",
    "raw_data = sc.textFile(\"data/train_tiny.txt\").map(lambda x: x.replace('\\t', ','))\n",
    "rawTrainData, rawTestData = raw_data.randomSplit([.9, .1], seed = 42)\n",
    "\n",
    "OneSample = rawTrainData.take(1)\n",
    "print(OneSample)\n",
    "\n",
    "print(\"\")\n",
    "print(\"Number of data\")\n",
    "print(\"Train:\\t{}\".format(rawTrainData.count()))\n",
    "print(\"Test:\\t{}\".format(rawTestData.count()))"
   ]
  },
  {
   "cell_type": "code",
   "execution_count": 3,
   "metadata": {
    "collapsed": false,
    "scrolled": false
   },
   "outputs": [
    {
     "name": "stdout",
     "output_type": "stream",
     "text": [
      "Feature size after OHE:\t786056\n",
      "[LabeledPoint(0.0, (786056,[566,39604,41923,58676,69781,90928,112857,131445,195282,220601,252193,322478,334026,334516,337592,345770,356285,375026,407268,409659,422609,434255,442902,489382,504248,533543,560252,601474,620206,686699,700280,700396,707174,734306,735807,742414,746222,763609,765494],[1.0,1.0,1.0,1.0,1.0,1.0,1.0,1.0,1.0,1.0,1.0,1.0,1.0,1.0,1.0,1.0,1.0,1.0,1.0,1.0,1.0,1.0,1.0,1.0,1.0,1.0,1.0,1.0,1.0,1.0,1.0,1.0,1.0,1.0,1.0,1.0,1.0,1.0,1.0]))]\n"
     ]
    }
   ],
   "source": [
    "def createOneHotDict(inputData):\n",
    "    OHEDict = (inputData\n",
    "               .flatMap(lambda x: x)\n",
    "               .distinct()\n",
    "               .zipWithIndex()\n",
    "               .collectAsMap())\n",
    "    return OHEDict\n",
    "\n",
    "\n",
    "def parsePoint(point):\n",
    "    items = point.split(',')\n",
    "    return [(i, item) for i, item in enumerate(items[1:])]\n",
    "\n",
    "def oneHotEncoding(rawFeats, OHEDict, numOHEFeats):\n",
    "    sizeList = [OHEDict[f] for f in rawFeats if f in OHEDict]\n",
    "    sortedSizeList = sorted(sizeList)\n",
    "    valueList = [1 for f in rawFeats if f in OHEDict ]\n",
    "    return SparseVector(numOHEFeats, sortedSizeList, valueList)\n",
    "\n",
    "\n",
    "def parseOHEPoint(point, OHEDict, numOHEFeats):\n",
    "    parsedPoints = parsePoint(point)\n",
    "    items = point.split(',')\n",
    "    label = items[0]\n",
    "    features = oneHotEncoding(parsedPoints, OHEDict, numOHEFeats)\n",
    "    return LabeledPoint(label, features)\n",
    "\n",
    "parsedFeat = rawTrainData.map(parsePoint)\n",
    "ctrOHEDict = createOneHotDict(parsedFeat)\n",
    "numCtrOHEFeats = len(ctrOHEDict.keys())\n",
    "\n",
    "\n",
    "OHETrainData = rawTrainData.map(lambda point: parseOHEPoint(point, ctrOHEDict, numCtrOHEFeats)).cache()\n",
    "OHETestData = rawTestData.map(lambda point: parseOHEPoint(point, ctrOHEDict, numCtrOHEFeats)).cache()\n",
    "\n",
    "print('Feature size after OHE:\\t{0}'.format(numCtrOHEFeats))\n",
    "\n",
    "print(OHETrainData.take(1))"
   ]
  },
  {
   "cell_type": "code",
   "execution_count": 4,
   "metadata": {
    "collapsed": false,
    "scrolled": false
   },
   "outputs": [
    {
     "name": "stdout",
     "output_type": "stream",
     "text": [
      "Test Logloss for model1:\n",
      "\t = 0.6602566549429516\n"
     ]
    }
   ],
   "source": [
    "from pyspark.mllib.classification import LogisticRegressionWithLBFGS\n",
    "\n",
    "numIters = 100\n",
    "regParam = 0.01\n",
    "regType = 'l2'\n",
    "includeIntercept = True\n",
    "\n",
    "model0 = LogisticRegressionWithLBFGS.train(data = OHETrainData, \n",
    "                                         iterations = numIters,\n",
    "                                         regParam = regParam,\n",
    "                                         regType = regType,\n",
    "                                         intercept = includeIntercept)\n",
    "\n",
    "#Compute loglos\n",
    "from math import log, exp \n",
    "\n",
    "def computeLogLoss(p, y):\n",
    "    epsilon = 10e-12\n",
    "    if y == 1:\n",
    "        return -log(epsilon + p) if p == 0 else -log(p)\n",
    "    elif y == 0:\n",
    "        return -log(1 - p + epsilon) if p == 1 else -log(1 - p)\n",
    "\n",
    "def getP(x, w, intercept):\n",
    "    rawPrediction = x.dot(w) + intercept\n",
    "\n",
    "    # Bound the raw prediction value\n",
    "    rawPrediction = min(rawPrediction, 20)\n",
    "    rawPrediction = max(rawPrediction, -20)\n",
    "    return 1.0 / (1.0 + exp(-rawPrediction))\n",
    "\n",
    "def evaluateResults(model, data):\n",
    "    return data.map(lambda x: computeLogLoss(getP(x.features, model.weights, model.intercept), x.label)).sum() / data.count()\n",
    "\n",
    "print ('Test Logloss for model1:\\n\\t = {0}'\n",
    "       .format(evaluateResults(model0, OHETestData)))"
   ]
  },
  {
   "cell_type": "code",
   "execution_count": 5,
   "metadata": {
    "collapsed": false
   },
   "outputs": [
    {
     "data": {
      "text/plain": [
       "[<matplotlib.lines.Line2D at 0x7f72223e3da0>]"
      ]
     },
     "execution_count": 5,
     "metadata": {},
     "output_type": "execute_result"
    },
    {
     "data": {
      "image/png": "[encoded data removed]",
      "text/plain": [
       "<matplotlib.figure.Figure at 0x7f7248b72e48>"
      ]
     },
     "metadata": {},
     "output_type": "display_data"
    }
   ],
   "source": [
    "labelsAndScores = OHETestData.map(lambda lp: (lp.label, getP(lp.features, model0.weights, model0.intercept)))\n",
    "labelsAndWeights = labelsAndScores.collect()\n",
    "labelsAndWeights.sort(key=lambda t: t[1], reverse=True)\n",
    "labelsByWeight = np.array([k for (k, v) in labelsAndWeights])\n",
    "\n",
    "length = labelsByWeight.size\n",
    "truePositives = labelsByWeight.cumsum()\n",
    "numPositive = truePositives[-1]\n",
    "falsePositives = np.arange(1.0, length + 1, 1.) - truePositives\n",
    "\n",
    "truePositiveRate = truePositives / numPositive\n",
    "falsePositiveRate = falsePositives / (length - numPositive)\n",
    "\n",
    "import matplotlib.pyplot as plt\n",
    "%matplotlib inline\n",
    "\n",
    "fig = plt.figure()\n",
    "ax = plt.subplot(111)\n",
    "\n",
    "ax.set_xlim(-.05, 1.05), ax.set_ylim(-.05, 1.05)\n",
    "ax.set_ylabel('True Positive Rate (Sensitivity)')\n",
    "ax.set_xlabel('False Positive Rate (1 - Specificity)')\n",
    "plt.plot(falsePositiveRate, truePositiveRate, color='#8cbfd0', linestyle='-', linewidth=3.)\n",
    "plt.plot((0., 1.), (0., 1.), linestyle='--', color='#d6ebf2', linewidth=2.)"
   ]
  }
 ],
 "metadata": {
  "kernelspec": {
   "display_name": "Python 3",
   "language": "python",
   "name": "python3"
  },
  "language_info": {
   "codemirror_mode": {
    "name": "ipython",
    "version": 3
   },
   "file_extension": ".py",
   "mimetype": "text/x-python",
   "name": "python",
   "nbconvert_exporter": "python",
   "pygments_lexer": "ipython3",
   "version": "3.5.1"
  }
 },
 "nbformat": 4,
 "nbformat_minor": 0
}
